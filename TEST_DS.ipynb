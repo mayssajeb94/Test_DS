{
  "nbformat": 4,
  "nbformat_minor": 0,
  "metadata": {
    "colab": {
      "name": "TEST_DS.ipynb",
      "provenance": [],
      "collapsed_sections": [],
      "include_colab_link": true
    },
    "kernelspec": {
      "name": "python3",
      "display_name": "Python 3"
    }
  },
  "cells": [
    {
      "cell_type": "markdown",
      "metadata": {
        "id": "view-in-github",
        "colab_type": "text"
      },
      "source": [
        "<a href=\"https://colab.research.google.com/github/mayssajeb94/Test_DS/blob/master/TEST_DS.ipynb\" target=\"_parent\"><img src=\"https://colab.research.google.com/assets/colab-badge.svg\" alt=\"Open In Colab\"/></a>"
      ]
    },
    {
      "cell_type": "code",
      "metadata": {
        "id": "tahVgulUvxuX",
        "colab_type": "code",
        "outputId": "59766ca1-bc73-4880-bfcc-13b621edf8be",
        "colab": {
          "base_uri": "https://localhost:8080/",
          "height": 128
        }
      },
      "source": [
        "from google.colab import drive\n",
        "\n",
        "#This will ask for permission\n",
        "drive.mount('/content/drive')"
      ],
      "execution_count": 0,
      "outputs": [
        {
          "output_type": "stream",
          "text": [
            "Go to this URL in a browser: https://accounts.google.com/o/oauth2/auth?client_id=947318989803-6bn6qk8qdgf4n4g3pfee6491hc0brc4i.apps.googleusercontent.com&redirect_uri=urn%3aietf%3awg%3aoauth%3a2.0%3aoob&response_type=code&scope=email%20https%3a%2f%2fwww.googleapis.com%2fauth%2fdocs.test%20https%3a%2f%2fwww.googleapis.com%2fauth%2fdrive%20https%3a%2f%2fwww.googleapis.com%2fauth%2fdrive.photos.readonly%20https%3a%2f%2fwww.googleapis.com%2fauth%2fpeopleapi.readonly\n",
            "\n",
            "Enter your authorization code:\n",
            "··········\n",
            "Mounted at /content/drive\n"
          ],
          "name": "stdout"
        }
      ]
    },
    {
      "cell_type": "code",
      "metadata": {
        "id": "tCYfShCJ5ks1",
        "colab_type": "code",
        "outputId": "4da83cef-3ae3-4b9d-bc52-3d95277a64c1",
        "colab": {
          "base_uri": "https://localhost:8080/",
          "height": 407
        }
      },
      "source": [
        "import json\n",
        "import pandas as pd\n",
        "from pandas.io.json import json_normalize\n",
        "\n",
        "#lire la base de données \n",
        "jsondata=pd.read_json ('/content/drive/My Drive/Brisbane_CityBike.json')\n",
        "df = pd.DataFrame.from_dict(jsondata, orient='columns')\n",
        "df"
      ],
      "execution_count": 0,
      "outputs": [
        {
          "output_type": "execute_result",
          "data": {
            "text/html": [
              "<div>\n",
              "<style scoped>\n",
              "    .dataframe tbody tr th:only-of-type {\n",
              "        vertical-align: middle;\n",
              "    }\n",
              "\n",
              "    .dataframe tbody tr th {\n",
              "        vertical-align: top;\n",
              "    }\n",
              "\n",
              "    .dataframe thead th {\n",
              "        text-align: right;\n",
              "    }\n",
              "</style>\n",
              "<table border=\"1\" class=\"dataframe\">\n",
              "  <thead>\n",
              "    <tr style=\"text-align: right;\">\n",
              "      <th></th>\n",
              "      <th>number</th>\n",
              "      <th>name</th>\n",
              "      <th>address</th>\n",
              "      <th>latitude</th>\n",
              "      <th>longitude</th>\n",
              "    </tr>\n",
              "  </thead>\n",
              "  <tbody>\n",
              "    <tr>\n",
              "      <th>0</th>\n",
              "      <td>122</td>\n",
              "      <td>122 - LOWER RIVER TCE / ELLIS ST</td>\n",
              "      <td>Lower River Tce / Ellis St</td>\n",
              "      <td>-27.482279</td>\n",
              "      <td>153.028723</td>\n",
              "    </tr>\n",
              "    <tr>\n",
              "      <th>1</th>\n",
              "      <td>91</td>\n",
              "      <td>91 - MAIN ST / DARRAGH ST</td>\n",
              "      <td>Main St / Darragh St</td>\n",
              "      <td>-27.470590</td>\n",
              "      <td>153.036046</td>\n",
              "    </tr>\n",
              "    <tr>\n",
              "      <th>2</th>\n",
              "      <td>88</td>\n",
              "      <td>88 - SYDNEY ST FERRY TERMINAL / PARK</td>\n",
              "      <td>Sydney St Ferry Terminal / Park</td>\n",
              "      <td>-27.474531</td>\n",
              "      <td>153.042728</td>\n",
              "    </tr>\n",
              "    <tr>\n",
              "      <th>3</th>\n",
              "      <td>75</td>\n",
              "      <td>75 - BROWNE ST / JAMES ST</td>\n",
              "      <td>Browne St / James St</td>\n",
              "      <td>-27.461881</td>\n",
              "      <td>153.046986</td>\n",
              "    </tr>\n",
              "    <tr>\n",
              "      <th>4</th>\n",
              "      <td>98</td>\n",
              "      <td>98 - KURILPA POINT / MONTAGUE RD</td>\n",
              "      <td>Kurilpa Point / Montague Rd</td>\n",
              "      <td>-27.469658</td>\n",
              "      <td>153.016696</td>\n",
              "    </tr>\n",
              "    <tr>\n",
              "      <th>...</th>\n",
              "      <td>...</td>\n",
              "      <td>...</td>\n",
              "      <td>...</td>\n",
              "      <td>...</td>\n",
              "      <td>...</td>\n",
              "    </tr>\n",
              "    <tr>\n",
              "      <th>144</th>\n",
              "      <td>38</td>\n",
              "      <td>38 - ANN ST / CREEK ST</td>\n",
              "      <td>38 - Ann St / Creek St</td>\n",
              "      <td>-27.465880</td>\n",
              "      <td>153.026861</td>\n",
              "    </tr>\n",
              "    <tr>\n",
              "      <th>145</th>\n",
              "      <td>14</td>\n",
              "      <td>14 - ALBERT STREET MALL / ELIZABETH STREET</td>\n",
              "      <td>Albert St Mall / Elizabeth St</td>\n",
              "      <td>-27.470110</td>\n",
              "      <td>153.025627</td>\n",
              "    </tr>\n",
              "    <tr>\n",
              "      <th>146</th>\n",
              "      <td>45</td>\n",
              "      <td>45 - TURBOT ST / BOWEN ST</td>\n",
              "      <td>Turbot St / Bowen St</td>\n",
              "      <td>-27.462665</td>\n",
              "      <td>153.029087</td>\n",
              "    </tr>\n",
              "    <tr>\n",
              "      <th>147</th>\n",
              "      <td>1</td>\n",
              "      <td>1 - EDWARD ST / QUEEN ST</td>\n",
              "      <td>Edward St / Queen St</td>\n",
              "      <td>-27.468120</td>\n",
              "      <td>153.026820</td>\n",
              "    </tr>\n",
              "    <tr>\n",
              "      <th>148</th>\n",
              "      <td>116</td>\n",
              "      <td>116 - CORDELIA ST / ERNEST ST</td>\n",
              "      <td>Cordelia St / Ernest St</td>\n",
              "      <td>-27.481137</td>\n",
              "      <td>153.019284</td>\n",
              "    </tr>\n",
              "  </tbody>\n",
              "</table>\n",
              "<p>149 rows × 5 columns</p>\n",
              "</div>"
            ],
            "text/plain": [
              "     number                                        name  ...   latitude   longitude\n",
              "0       122            122 - LOWER RIVER TCE / ELLIS ST  ... -27.482279  153.028723\n",
              "1        91                   91 - MAIN ST / DARRAGH ST  ... -27.470590  153.036046\n",
              "2        88        88 - SYDNEY ST FERRY TERMINAL / PARK  ... -27.474531  153.042728\n",
              "3        75                   75 - BROWNE ST / JAMES ST  ... -27.461881  153.046986\n",
              "4        98            98 - KURILPA POINT / MONTAGUE RD  ... -27.469658  153.016696\n",
              "..      ...                                         ...  ...        ...         ...\n",
              "144      38                      38 - ANN ST / CREEK ST  ... -27.465880  153.026861\n",
              "145      14  14 - ALBERT STREET MALL / ELIZABETH STREET  ... -27.470110  153.025627\n",
              "146      45                   45 - TURBOT ST / BOWEN ST  ... -27.462665  153.029087\n",
              "147       1                    1 - EDWARD ST / QUEEN ST  ... -27.468120  153.026820\n",
              "148     116               116 - CORDELIA ST / ERNEST ST  ... -27.481137  153.019284\n",
              "\n",
              "[149 rows x 5 columns]"
            ]
          },
          "metadata": {
            "tags": []
          },
          "execution_count": 24
        }
      ]
    },
    {
      "cell_type": "markdown",
      "metadata": {
        "id": "s6ewo7QFonf_",
        "colab_type": "text"
      },
      "source": [
        "\n",
        "# Hierarchical ascending classification"
      ]
    },
    {
      "cell_type": "markdown",
      "metadata": {
        "id": "reoUxXFUm5jn",
        "colab_type": "text"
      },
      "source": [
        "Preparing Input Data  works only on numerical features and so it needs to quantify the features in order to calculate distance between data objects."
      ]
    },
    {
      "cell_type": "code",
      "metadata": {
        "colab_type": "code",
        "id": "abr5-_5H4gCC",
        "outputId": "2fe0e22a-dd1d-4609-bf28-5b6c2e6f184f",
        "colab": {
          "base_uri": "https://localhost:8080/",
          "height": 407
        }
      },
      "source": [
        "newdf= df[['number','latitude','longitude']]\n",
        "newdf"
      ],
      "execution_count": 0,
      "outputs": [
        {
          "output_type": "execute_result",
          "data": {
            "text/html": [
              "<div>\n",
              "<style scoped>\n",
              "    .dataframe tbody tr th:only-of-type {\n",
              "        vertical-align: middle;\n",
              "    }\n",
              "\n",
              "    .dataframe tbody tr th {\n",
              "        vertical-align: top;\n",
              "    }\n",
              "\n",
              "    .dataframe thead th {\n",
              "        text-align: right;\n",
              "    }\n",
              "</style>\n",
              "<table border=\"1\" class=\"dataframe\">\n",
              "  <thead>\n",
              "    <tr style=\"text-align: right;\">\n",
              "      <th></th>\n",
              "      <th>number</th>\n",
              "      <th>latitude</th>\n",
              "      <th>longitude</th>\n",
              "    </tr>\n",
              "  </thead>\n",
              "  <tbody>\n",
              "    <tr>\n",
              "      <th>0</th>\n",
              "      <td>122</td>\n",
              "      <td>-27.482279</td>\n",
              "      <td>153.028723</td>\n",
              "    </tr>\n",
              "    <tr>\n",
              "      <th>1</th>\n",
              "      <td>91</td>\n",
              "      <td>-27.470590</td>\n",
              "      <td>153.036046</td>\n",
              "    </tr>\n",
              "    <tr>\n",
              "      <th>2</th>\n",
              "      <td>88</td>\n",
              "      <td>-27.474531</td>\n",
              "      <td>153.042728</td>\n",
              "    </tr>\n",
              "    <tr>\n",
              "      <th>3</th>\n",
              "      <td>75</td>\n",
              "      <td>-27.461881</td>\n",
              "      <td>153.046986</td>\n",
              "    </tr>\n",
              "    <tr>\n",
              "      <th>4</th>\n",
              "      <td>98</td>\n",
              "      <td>-27.469658</td>\n",
              "      <td>153.016696</td>\n",
              "    </tr>\n",
              "    <tr>\n",
              "      <th>...</th>\n",
              "      <td>...</td>\n",
              "      <td>...</td>\n",
              "      <td>...</td>\n",
              "    </tr>\n",
              "    <tr>\n",
              "      <th>144</th>\n",
              "      <td>38</td>\n",
              "      <td>-27.465880</td>\n",
              "      <td>153.026861</td>\n",
              "    </tr>\n",
              "    <tr>\n",
              "      <th>145</th>\n",
              "      <td>14</td>\n",
              "      <td>-27.470110</td>\n",
              "      <td>153.025627</td>\n",
              "    </tr>\n",
              "    <tr>\n",
              "      <th>146</th>\n",
              "      <td>45</td>\n",
              "      <td>-27.462665</td>\n",
              "      <td>153.029087</td>\n",
              "    </tr>\n",
              "    <tr>\n",
              "      <th>147</th>\n",
              "      <td>1</td>\n",
              "      <td>-27.468120</td>\n",
              "      <td>153.026820</td>\n",
              "    </tr>\n",
              "    <tr>\n",
              "      <th>148</th>\n",
              "      <td>116</td>\n",
              "      <td>-27.481137</td>\n",
              "      <td>153.019284</td>\n",
              "    </tr>\n",
              "  </tbody>\n",
              "</table>\n",
              "<p>149 rows × 3 columns</p>\n",
              "</div>"
            ],
            "text/plain": [
              "     number   latitude   longitude\n",
              "0       122 -27.482279  153.028723\n",
              "1        91 -27.470590  153.036046\n",
              "2        88 -27.474531  153.042728\n",
              "3        75 -27.461881  153.046986\n",
              "4        98 -27.469658  153.016696\n",
              "..      ...        ...         ...\n",
              "144      38 -27.465880  153.026861\n",
              "145      14 -27.470110  153.025627\n",
              "146      45 -27.462665  153.029087\n",
              "147       1 -27.468120  153.026820\n",
              "148     116 -27.481137  153.019284\n",
              "\n",
              "[149 rows x 3 columns]"
            ]
          },
          "metadata": {
            "tags": []
          },
          "execution_count": 12
        }
      ]
    },
    {
      "cell_type": "code",
      "metadata": {
        "id": "Qo04d4zunBLw",
        "colab_type": "code",
        "colab": {}
      },
      "source": [
        "#librairies pour la CAH\n",
        "from matplotlib import pyplot as plt\n",
        "from scipy.cluster.hierarchy import dendrogram, linkage\n",
        "\n",
        "#générer la matrice des liens\n",
        "Z = linkage(newdf,method='ward',metric='euclidean')\n",
        "#affichage du dendrogramme\n",
        "plt.title(\"CAH\")\n",
        "dendrogram(Z,labels=newdf.index,orientation='left',color_threshold=0)\n",
        "plt.show()"
      ],
      "execution_count": 0,
      "outputs": []
    },
    {
      "cell_type": "markdown",
      "metadata": {
        "id": "1BxrM3yeqcUC",
        "colab_type": "text"
      },
      "source": [
        "Le dendrogramme  suggère  un découpage en 3 groupes"
      ]
    },
    {
      "cell_type": "code",
      "metadata": {
        "id": "Rjust-9uAHEw",
        "colab_type": "code",
        "outputId": "2cfbe835-a8ef-465d-cde7-93881ebcc122",
        "colab": {
          "base_uri": "https://localhost:8080/",
          "height": 372
        }
      },
      "source": [
        "from scipy.cluster.hierarchy import fcluster\n",
        "import pandas as pd\n",
        "import numpy as np\n",
        "\n",
        "#matérialisation des 3 classes \n",
        "plt.title('CAH avec matérialisation des 3 classes')\n",
        "dendrogram(Z,labels=newdf.index,orientation='left',color_threshold=400)\n",
        "plt.show()\n",
        "#découpage à la hauteur t = 400 ==> identifiants de 3 groupes obtenus\n",
        "groupes_cah = fcluster(Z,t=400,criterion='distance')\n",
        "print(groupes_cah)\n",
        "#index triés des groupes\n",
        "idg = np.argsort(groupes_cah)\n"
      ],
      "execution_count": 0,
      "outputs": [
        {
          "output_type": "display_data",
          "data": {
            "image/png": "[encoded data removed]",
            "text/plain": [
              "<Figure size 432x288 with 1 Axes>"
            ]
          },
          "metadata": {
            "tags": []
          }
        },
        {
          "output_type": "stream",
          "text": [
            "[2 2 2 2 2 2 2 2 1 2 2 3 1 1 2 1 2 2 2 2 1 1 1 1 2 2 2 1 1 1 1 2 2 1 2 1 1\n",
            " 2 1 1 1 1 1 1 1 1 2 2 2 2 2 2 1 1 2 1 1 1 1 1 2 2 1 2 2 1 1 2 1 2 1 1 2 2\n",
            " 2 2 2 2 2 1 1 2 2 1 1 2 1 2 2 2 1 1 2 2 1 2 2 2 1 1 2 1 2 1 1 2 2 1 2 2 2\n",
            " 2 2 1 2 2 2 1 1 1 2 2 2 1 1 1 1 2 2 2 2 1 1 1 2 1 2 2 1 2 1 1 2 2 1 1 1 1\n",
            " 2]\n"
          ],
          "name": "stdout"
        }
      ]
    },
    {
      "cell_type": "code",
      "metadata": {
        "id": "roxCV67dyCuf",
        "colab_type": "code",
        "outputId": "653acf24-b223-4b8c-d02a-3788b3507a2f",
        "colab": {
          "base_uri": "https://localhost:8080/",
          "height": 272
        }
      },
      "source": [
        "#affichage des observations et leurs groupes\n",
        "output=pd.DataFrame(newdf.index[idg],groupes_cah[idg])\n",
        "print(output)\n",
        "output.columns = ['number']\n",
        "\n",
        "\n",
        "output.to_csv('/content/drive/My Drive/ Grpupes.csv')"
      ],
      "execution_count": 0,
      "outputs": [
        {
          "output_type": "stream",
          "text": [
            "      0\n",
            "1   123\n",
            "1    52\n",
            "1   119\n",
            "1   104\n",
            "1    83\n",
            "..  ...\n",
            "2    54\n",
            "2    51\n",
            "2    75\n",
            "2   148\n",
            "3    11\n",
            "\n",
            "[149 rows x 1 columns]\n"
          ],
          "name": "stdout"
        }
      ]
    },
    {
      "cell_type": "markdown",
      "metadata": {
        "id": "y_DafAegpEWj",
        "colab_type": "text"
      },
      "source": [
        "## Méthode des centres **mobiles** 'Kmeans'\n"
      ]
    },
    {
      "cell_type": "code",
      "metadata": {
        "id": "PYMpYi-eERnv",
        "colab_type": "code",
        "outputId": "c0414f28-5631-432c-db43-9931860e9d4a",
        "colab": {
          "base_uri": "https://localhost:8080/",
          "height": 1000
        }
      },
      "source": [
        "#k-means sur les données centrées et réduites\n",
        "from sklearn import cluster\n",
        "\n",
        "kmeans = cluster.KMeans(n_clusters=3)\n",
        "kmeans.fit(newdf)\n",
        "#index triés des groupes\n",
        "idk = np.argsort(kmeans.labels_)\n",
        "#affichage des observations et leurs groupes\n",
        "print(pd.DataFrame(newdf.index[idk],kmeans.labels_[idk]))\n",
        "#distances aux centres de classes des observations\n",
        "print(kmeans.transform(newdf))\n",
        "#correspondance avec les groupes de la CAH\n",
        "pd.crosstab(groupes_cah,kmeans.labels_)"
      ],
      "execution_count": 0,
      "outputs": [
        {
          "output_type": "stream",
          "text": [
            "     0\n",
            "0    0\n",
            "0   96\n",
            "0   95\n",
            "0   93\n",
            "0   92\n",
            "..  ..\n",
            "1   94\n",
            "1   29\n",
            "1   49\n",
            "1   99\n",
            "2   11\n",
            "\n",
            "[149 rows x 1 columns]\n",
            "[[8.50000748e+00 8.28648668e+01 9.79000000e+02]\n",
            " [2.25000082e+01 5.18648654e+01 1.01000000e+03]\n",
            " [2.55000119e+01 4.88648671e+01 1.01300000e+03]\n",
            " [3.85000140e+01 3.58648682e+01 1.02600000e+03]\n",
            " [1.55000023e+01 5.88648670e+01 1.00300000e+03]\n",
            " [4.50002333e+00 6.98648723e+01 9.92000000e+02]\n",
            " [3.55000075e+01 1.09864873e+02 9.52000001e+02]\n",
            " [2.55000050e+01 9.98648698e+01 9.62000000e+02]\n",
            " [8.95000017e+01 1.51351764e+01 1.07700000e+03]\n",
            " [3.50000358e+00 7.78648676e+01 9.84000000e+02]\n",
            " [4.05000150e+01 3.38648702e+01 1.02800000e+03]\n",
            " [9.87500000e+02 1.06186486e+03 0.00000000e+00]\n",
            " [9.05000005e+01 1.61351383e+01 1.07800000e+03]\n",
            " [5.95000063e+01 1.48648673e+01 1.04700000e+03]\n",
            " [2.05000010e+01 5.38648681e+01 1.00800000e+03]\n",
            " [8.25000007e+01 8.13514142e+00 1.07000000e+03]\n",
            " [1.65000148e+01 5.78648773e+01 1.00400000e+03]\n",
            " [3.35000108e+01 1.07864874e+02 9.54000001e+02]\n",
            " [3.65000128e+01 3.78648667e+01 1.02400000e+03]\n",
            " [5.50000603e+00 7.98648669e+01 9.82000000e+02]\n",
            " [4.65000174e+01 2.78648731e+01 1.03400000e+03]\n",
            " [7.45000017e+01 1.35226711e-01 1.06200000e+03]\n",
            " [5.85000063e+01 1.58648675e+01 1.04600000e+03]\n",
            " [7.85000008e+01 4.13515694e+00 1.06600000e+03]\n",
            " [3.65000051e+01 1.10864871e+02 9.51000000e+02]\n",
            " [3.35000114e+01 4.08648663e+01 1.02100000e+03]\n",
            " [3.55000094e+01 3.88648655e+01 1.02300000e+03]\n",
            " [4.85000140e+01 2.58648712e+01 1.03600000e+03]\n",
            " [6.95000027e+01 4.86486510e+00 1.05700000e+03]\n",
            " [5.75000072e+01 1.68648686e+01 1.04500000e+03]\n",
            " [6.35000044e+01 1.08648666e+01 1.05100000e+03]\n",
            " [1.85000003e+01 5.58648670e+01 1.00600000e+03]\n",
            " [1.95000034e+01 9.38648672e+01 9.68000000e+02]\n",
            " [4.55000168e+01 2.88648721e+01 1.03300000e+03]\n",
            " [2.05000049e+01 9.48648681e+01 9.67000000e+02]\n",
            " [6.15000053e+01 1.28648671e+01 1.04900000e+03]\n",
            " [6.65000033e+01 7.86486569e+00 1.05400000e+03]\n",
            " [2.65000060e+01 1.00864870e+02 9.61000000e+02]\n",
            " [9.75000006e+01 2.31351367e+01 1.08500000e+03]\n",
            " [5.45000083e+01 1.98648680e+01 1.04200000e+03]\n",
            " [9.55000002e+01 2.11351425e+01 1.08300000e+03]\n",
            " [7.05000023e+01 3.86486497e+00 1.05800000e+03]\n",
            " [1.04500001e+02 3.01351358e+01 1.09200000e+03]\n",
            " [1.08500001e+02 3.41351356e+01 1.09600000e+03]\n",
            " [1.09500001e+02 3.51351354e+01 1.09700000e+03]\n",
            " [1.02500001e+02 2.81351363e+01 1.09000000e+03]\n",
            " [2.85000166e+01 4.58648688e+01 1.01600000e+03]\n",
            " [2.45000067e+01 9.88648702e+01 9.63000000e+02]\n",
            " [2.95000086e+01 1.03864873e+02 9.58000001e+02]\n",
            " [4.15000162e+01 3.28648722e+01 1.02900000e+03]\n",
            " [3.15000108e+01 1.05864874e+02 9.56000001e+02]\n",
            " [7.50000686e+00 8.18648671e+01 9.80000000e+02]\n",
            " [7.35000017e+01 8.64874892e-01 1.06100000e+03]\n",
            " [8.65000016e+01 1.21351817e+01 1.07400000e+03]\n",
            " [2.25000053e+01 9.68648689e+01 9.65000000e+02]\n",
            " [6.45000043e+01 9.86486622e+00 1.05200000e+03]\n",
            " [9.25000006e+01 1.81351388e+01 1.08000000e+03]\n",
            " [8.45000005e+01 1.01351410e+01 1.07200000e+03]\n",
            " [5.05000113e+01 2.38648696e+01 1.03800000e+03]\n",
            " [8.75000004e+01 1.31351400e+01 1.07500000e+03]\n",
            " [3.15000145e+01 4.28648675e+01 1.01900000e+03]\n",
            " [3.95000148e+01 3.48648693e+01 1.02700000e+03]\n",
            " [9.85000006e+01 2.41351365e+01 1.08600000e+03]\n",
            " [2.75000082e+01 1.01864872e+02 9.60000000e+02]\n",
            " [1.65000116e+01 9.08648656e+01 9.71000000e+02]\n",
            " [6.55000039e+01 8.86486594e+00 1.05300000e+03]\n",
            " [6.05000047e+01 1.38648658e+01 1.04800000e+03]\n",
            " [1.15000167e+01 8.58648703e+01 9.76000000e+02]\n",
            " [4.35000158e+01 3.08648709e+01 1.03100000e+03]\n",
            " [2.65000132e+01 4.78648666e+01 1.01400000e+03]\n",
            " [1.01500001e+02 2.71351364e+01 1.08900000e+03]\n",
            " [4.45000167e+01 2.98648717e+01 1.03200000e+03]\n",
            " [5.00009796e-01 7.38648681e+01 9.88000000e+02]\n",
            " [1.50002326e+00 7.28648691e+01 9.89000000e+02]\n",
            " [1.35000179e+01 8.78648712e+01 9.74000000e+02]\n",
            " [3.50002112e+00 7.08648708e+01 9.91000000e+02]\n",
            " [2.35000079e+01 5.08648652e+01 1.01100000e+03]\n",
            " [1.85000046e+01 9.28648675e+01 9.69000000e+02]\n",
            " [1.75000003e+01 5.68648673e+01 1.00500000e+03]\n",
            " [1.11500001e+02 3.71351352e+01 1.09900000e+03]\n",
            " [5.15000105e+01 2.28648693e+01 1.03900000e+03]\n",
            " [9.50000590e+00 8.38648653e+01 9.78000000e+02]\n",
            " [1.05000029e+01 6.38648702e+01 9.98000000e+02]\n",
            " [8.55000005e+01 1.11351402e+01 1.07300000e+03]\n",
            " [5.35000092e+01 2.08648689e+01 1.04100000e+03]\n",
            " [1.05000122e+01 8.48648691e+01 9.77000000e+02]\n",
            " [8.85000004e+01 1.41351394e+01 1.07600000e+03]\n",
            " [5.00011449e-01 7.48648672e+01 9.87000000e+02]\n",
            " [3.75000219e+01 3.68648713e+01 1.02500000e+03]\n",
            " [1.50002162e+00 7.58648683e+01 9.86000000e+02]\n",
            " [8.35000007e+01 9.13513988e+00 1.07100000e+03]\n",
            " [4.95000151e+01 2.48648728e+01 1.03700000e+03]\n",
            " [2.15000070e+01 5.28648653e+01 1.00900000e+03]\n",
            " [4.50000140e+00 7.88648670e+01 9.83000000e+02]\n",
            " [4.25000151e+01 3.18648702e+01 1.03000000e+03]\n",
            " [2.15000063e+01 9.58648690e+01 9.66000000e+02]\n",
            " [5.50002783e+00 6.88648742e+01 9.93000000e+02]\n",
            " [2.50002102e+00 7.18648697e+01 9.90000000e+02]\n",
            " [6.75000032e+01 6.86486542e+00 1.05500000e+03]\n",
            " [9.65000007e+01 2.21351368e+01 1.08400000e+03]\n",
            " [6.50003606e+00 6.78648768e+01 9.94000001e+02]\n",
            " [1.10500001e+02 3.61351353e+01 1.09800000e+03]\n",
            " [2.45000082e+01 4.98648649e+01 1.01200000e+03]\n",
            " [8.05000008e+01 6.13514686e+00 1.06800000e+03]\n",
            " [7.65000010e+01 2.13520381e+00 1.06400000e+03]\n",
            " [6.50000493e+00 8.08648693e+01 9.81000000e+02]\n",
            " [3.05000162e+01 4.38648681e+01 1.01800000e+03]\n",
            " [9.35000005e+01 1.91351407e+01 1.08100000e+03]\n",
            " [2.95000199e+01 4.48648699e+01 1.01700000e+03]\n",
            " [1.55000081e+01 8.98648659e+01 9.72000000e+02]\n",
            " [1.25000016e+01 8.68648683e+01 9.75000000e+02]\n",
            " [8.50001223e+00 6.58648733e+01 9.96000000e+02]\n",
            " [1.15000010e+01 6.28648693e+01 9.99000000e+02]\n",
            " [1.06500001e+02 3.21351359e+01 1.09400000e+03]\n",
            " [1.95000000e+01 5.48648681e+01 1.00700000e+03]\n",
            " [7.50002638e+00 6.68648760e+01 9.95000000e+02]\n",
            " [1.35000010e+01 6.08648689e+01 1.00100000e+03]\n",
            " [5.25000108e+01 2.18648701e+01 1.04000000e+03]\n",
            " [6.25000053e+01 1.18648677e+01 1.05000000e+03]\n",
            " [4.75000159e+01 2.68648724e+01 1.03500000e+03]\n",
            " [3.05000134e+01 1.04864875e+02 9.57000001e+02]\n",
            " [3.45000098e+01 1.08864874e+02 9.53000001e+02]\n",
            " [3.25000112e+01 1.06864874e+02 9.55000001e+02]\n",
            " [7.15000021e+01 2.86486594e+00 1.05900000e+03]\n",
            " [1.03500001e+02 2.91351358e+01 1.09100000e+03]\n",
            " [9.45000006e+01 2.01351404e+01 1.08200000e+03]\n",
            " [1.07500001e+02 3.31351360e+01 1.09500000e+03]\n",
            " [2.85000092e+01 1.02864873e+02 9.59000001e+02]\n",
            " [1.25000004e+01 6.18648686e+01 1.00000000e+03]\n",
            " [1.75000125e+01 9.18648659e+01 9.70000000e+02]\n",
            " [1.45000010e+01 5.98648681e+01 1.00200000e+03]\n",
            " [5.55000079e+01 1.88648681e+01 1.04300000e+03]\n",
            " [5.65000076e+01 1.78648682e+01 1.04400000e+03]\n",
            " [8.15000005e+01 7.13514637e+00 1.06900000e+03]\n",
            " [2.75000139e+01 4.68648672e+01 1.01500000e+03]\n",
            " [7.25000022e+01 1.86486707e+00 1.06000000e+03]\n",
            " [3.25000091e+01 4.18648667e+01 1.02000000e+03]\n",
            " [9.50000771e+00 6.48648719e+01 9.97000000e+02]\n",
            " [7.95000007e+01 5.13515304e+00 1.06700000e+03]\n",
            " [1.45000022e+01 8.88648671e+01 9.73000000e+02]\n",
            " [1.00500001e+02 2.61351365e+01 1.08800000e+03]\n",
            " [7.75000009e+01 3.13516899e+00 1.06500000e+03]\n",
            " [2.35000065e+01 9.78648698e+01 9.64000000e+02]\n",
            " [3.45000105e+01 3.98648659e+01 1.02200000e+03]\n",
            " [7.55000014e+01 1.13514660e+00 1.06300000e+03]\n",
            " [9.95000006e+01 2.51351365e+01 1.08700000e+03]\n",
            " [6.85000025e+01 5.86486588e+00 1.05600000e+03]\n",
            " [1.12500001e+02 3.81351356e+01 1.10000000e+03]\n",
            " [2.50000229e+00 7.68648676e+01 9.85000000e+02]]\n"
          ],
          "name": "stdout"
        },
        {
          "output_type": "execute_result",
          "data": {
            "text/html": [
              "<div>\n",
              "<style scoped>\n",
              "    .dataframe tbody tr th:only-of-type {\n",
              "        vertical-align: middle;\n",
              "    }\n",
              "\n",
              "    .dataframe tbody tr th {\n",
              "        vertical-align: top;\n",
              "    }\n",
              "\n",
              "    .dataframe thead th {\n",
              "        text-align: right;\n",
              "    }\n",
              "</style>\n",
              "<table border=\"1\" class=\"dataframe\">\n",
              "  <thead>\n",
              "    <tr style=\"text-align: right;\">\n",
              "      <th>col_0</th>\n",
              "      <th>0</th>\n",
              "      <th>1</th>\n",
              "      <th>2</th>\n",
              "    </tr>\n",
              "    <tr>\n",
              "      <th>row_0</th>\n",
              "      <th></th>\n",
              "      <th></th>\n",
              "      <th></th>\n",
              "    </tr>\n",
              "  </thead>\n",
              "  <tbody>\n",
              "    <tr>\n",
              "      <th>1</th>\n",
              "      <td>0</td>\n",
              "      <td>69</td>\n",
              "      <td>0</td>\n",
              "    </tr>\n",
              "    <tr>\n",
              "      <th>2</th>\n",
              "      <td>74</td>\n",
              "      <td>5</td>\n",
              "      <td>0</td>\n",
              "    </tr>\n",
              "    <tr>\n",
              "      <th>3</th>\n",
              "      <td>0</td>\n",
              "      <td>0</td>\n",
              "      <td>1</td>\n",
              "    </tr>\n",
              "  </tbody>\n",
              "</table>\n",
              "</div>"
            ],
            "text/plain": [
              "col_0   0   1  2\n",
              "row_0           \n",
              "1       0  69  0\n",
              "2      74   5  0\n",
              "3       0   0  1"
            ]
          },
          "metadata": {
            "tags": []
          },
          "execution_count": 7
        }
      ]
    },
    {
      "cell_type": "markdown",
      "metadata": {
        "id": "6Lfhs4sBpQNM",
        "colab_type": "text"
      },
      "source": [
        "## The Elbow method  \n",
        "The Elbow method is a method of interpretation and validation of consistency within cluster analysis designed to help finding the appropriate number of clusters in a dataset.\n"
      ]
    },
    {
      "cell_type": "code",
      "metadata": {
        "id": "6ZsKyoUuG7or",
        "colab_type": "code",
        "outputId": "70a7819d-1d20-4aca-cc2b-ba1a1618f420",
        "colab": {
          "base_uri": "https://localhost:8080/",
          "height": 295
        }
      },
      "source": [
        "from scipy.spatial.distance import cdist\n",
        "\n",
        "distortions = [] \n",
        "inertias = [] \n",
        "mapping1 = {} \n",
        "mapping2 = {} \n",
        "K = range(1,10) \n",
        "  \n",
        "for k in K: \n",
        "    kmeanModel = cluster.KMeans(n_clusters=k).fit(newdf) \n",
        "    kmeanModel.fit(newdf)     \n",
        "      \n",
        "    distortions.append(sum(np.min(cdist(newdf, kmeanModel.cluster_centers_, \n",
        "                      'euclidean'),axis=1)) / newdf.shape[0]) \n",
        "    inertias.append(kmeanModel.inertia_) \n",
        "  \n",
        "    mapping1[k] = sum(np.min(cdist(newdf, kmeanModel.cluster_centers_, \n",
        "                 'euclidean'),axis=1)) / newdf.shape[0] \n",
        "    mapping2[k] = kmeanModel.inertia_ \n",
        "\n",
        "\n",
        "plt.plot(K, distortions, 'bx-') \n",
        "plt.xlabel('number of cluster') \n",
        "plt.ylabel('Distortion') \n",
        "plt.title('The Elbow Method using Distortion') \n",
        "plt.show() "
      ],
      "execution_count": 0,
      "outputs": [
        {
          "output_type": "display_data",
          "data": {
            "image/png": "[encoded data removed]",
            "text/plain": [
              "<Figure size 432x288 with 1 Axes>"
            ]
          },
          "metadata": {
            "tags": []
          }
        }
      ]
    }
  ]
}